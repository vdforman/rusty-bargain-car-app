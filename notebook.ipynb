{
 "cells": [
  {
   "cell_type": "markdown",
   "metadata": {},
   "source": [
    "<div style=\"border: 5px solid purple; padding: 15px; margin: 5px\">\n",
    "<b> Reviewer's comment 2</b>\n",
    "\n",
    "\n",
    "Thank you for the updates! You can find my new comments with digit 2. You did a great job here! You learned how to build and evaluate models to predict used car prices. You have successfully conducted EDA, handled missing values and outliers. You trained and tuned several models, compared their RMSE and speed, and chose the best model for the final testing. You learned how to prepare and encode large data and how to weigh training speed vs. prediction error, and why this matters in real-world applications. I hope you enjoyed this project! I do not have any questions, so the project can be accepted. Good luck! \n",
    "\n",
    "    \n",
    "</div>"
   ]
  },
  {
   "cell_type": "markdown",
   "metadata": {},
   "source": [
    "<div style=\"border: 5px solid blue; padding: 15px; margin: 5px\">\n",
    "<b>   Reviewee's comment </b>\n",
    "    \n",
    "Hey Reviewer. Reviewee here. I'll be stealing your code and using this format to communicate to you. Just instead in blue :P\n",
    "\n",
    "</div>"
   ]
  },
  {
   "cell_type": "markdown",
   "metadata": {},
   "source": [
    "<div style=\"border: 5px solid purple; padding: 15px; margin: 5px\">\n",
    "<b> Reviewer's comment</b>\n",
    "    \n",
    "Hi Victor! Congratulations on submitting another project! 🎉 I will be using the standard the color marking:\n",
    "    \n",
    "\n",
    "   \n",
    "    \n",
    "<div style=\"border: 5px solid green; padding: 15px; margin: 5px\">\n",
    "\n",
    "Great solutions and ideas that can and should be used in the future are in green comments. Some of them are: \n",
    "    \n",
    "    \n",
    "- You have successfully prepared the subsets. It is important to split the data correctly in order to ensure there's no intersection;    \n",
    "    \n",
    "    \n",
    "- Excluded irrelevant columns to reduce computational cost;\n",
    "    \n",
    "    \n",
    "- Encoded cetegorical columns;    \n",
    "\n",
    "    \n",
    "- Trained and compared several models, great!\n",
    "\n",
    "    \n",
    "- Tuned hyperparameters. We tune them to identify the hyperparameters that will yield the desired metric value;\n",
    "\n",
    "\n",
    "- Analyzed metrics. It is not enough to just fit the model and print the result. Instead, we have to analyze the results as it helps us identify what can be improved;\n",
    "  \n",
    "    \n",
    "- Wrote an excellent conclusion! A well-written conclusion shows how the project met its objectives and provides a concise and understandable summary for those who may not have been involved in the details of the project. Good job! \n",
    "\n",
    "</div>\n",
    "    \n",
    "<div style=\"border: 5px solid gold; padding: 15px; margin: 5px\">\n",
    "<b> Reviewer's comment </b>\n",
    "\n",
    "Yellow color indicates what should be optimized. This is not necessary, but it will be great if you make changes to this project. I've left several recommendations throughout the project. Please take a look.\n",
    " \n",
    "</div>\n",
    "<div style=\"border: 5px solid red; padding: 15px; margin: 5px\">\n",
    "<b> Reviewer's comment </b>\n",
    "\n",
    "Issues that must be corrected to achieve accurate results are indicated in red comments. Please note that the project cannot be accepted until these issues are resolved. For instance,\n",
    "\n",
    " \n",
    "- Check the data for the duplicates after you drop columns; \n",
    "\n",
    "    \n",
    "    \n",
    "- Let's not drop so many rows with missing values, as these rows contain some other information.\n",
    "\n",
    "  \n",
    "    \n",
    "- According to the task, we are supposed to measure models' training and prediction speed. Would you please measure them separately for each model?\n",
    "\n",
    "\n",
    "\n",
    "There may be other issues that need your attention. I described everything in my comments.  \n",
    "</div>        \n",
    "<hr>\n",
    "    \n",
    "<font color='dodgerblue'>**To sum up:**</font> great job here! You demonstrated strong analytical and modeling skills by preparing the data, experimenting with multiple advanced models, and evaluating them with appropriate metrics. The conclusion clearly communicates which model offers the best trade-off between speed and RMSE. There are just several issues that need your attention. Please take a look at my comments and do not hesitate to ask questions if some of them seem unclear. I will wait the project for the second review 😊 \n",
    "    \n",
    "\n",
    "<hr>\n",
    "    \n",
    "Please use some color other than those listed to highlight answers to my comments.\n",
    "I would also ask you **not to change, move or delete my comments** to make it easier for me to navigate during the next review.\n",
    "    \n",
    "<hr> \n",
    "    \n",
    "✍️ Here's a link to [Supervised Learning documenation sections](https://scikit-learn.org/stable/supervised_learning.html) that you may find useful.\n",
    "    \n",
    "<hr>\n",
    "    \n",
    "    \n",
    "📌 Please feel free to schedule a 1:1 sessions with our tutors or TAs Feel free to book 1-1 session [here](https://calendly.com/tripleten-ds-experts-team), join daily coworking sessions, or ask questions in the sprint channels on Discord if you need assistance 😉 \n",
    "</div>"
   ]
  },
  {
   "cell_type": "raw",
   "metadata": {},
   "source": [
    "Rusty Bargain used car sales service is developing an app to attract new customers. In that app, you can quickly find out the market value of your car. You have access to historical data: technical specifications, trim versions, and prices. You need to build the model to determine the value. \n",
    "\n",
    "Rusty Bargain is interested in:\n",
    "\n",
    "- the quality of the prediction;\n",
    "- the speed of the prediction;\n",
    "- the time required for training"
   ]
  },
  {
   "cell_type": "markdown",
   "metadata": {},
   "source": [
    "<center><img src=\"https://media.tenor.com/vUKtBpKChBUAAAAM/bob-esponja-spongebob.gif\" /></center>"
   ]
  },
  {
   "cell_type": "markdown",
   "metadata": {},
   "source": [
    "<div style=\"border: 5px solid green; padding: 15px; margin: 5px\">\n",
    "<b>   Reviewer's comment </b>\n",
    "    \n",
    "    \n",
    "😊    \n",
    "</div>"
   ]
  },
  {
   "cell_type": "markdown",
   "metadata": {},
   "source": [
    "## Imports"
   ]
  },
  {
   "cell_type": "code",
   "execution_count": 1,
   "metadata": {},
   "outputs": [],
   "source": [
    "import pandas as pd\n",
    "import numpy as np\n",
    "import lightgbm as lgb\n",
    "import math\n",
    "import time\n",
    "\n",
    "from catboost import CatBoostRegressor\n",
    "\n",
    "from sklearn.model_selection import train_test_split\n",
    "from sklearn.metrics import mean_squared_error\n",
    "from sklearn.linear_model import LinearRegression\n",
    "from sklearn.ensemble import RandomForestRegressor\n",
    "from sklearn.tree import DecisionTreeRegressor\n",
    "from sklearn.preprocessing import StandardScaler\n",
    "from sklearn.linear_model import SGDRegressor"
   ]
  },
  {
   "cell_type": "code",
   "execution_count": 2,
   "metadata": {
    "scrolled": true
   },
   "outputs": [
    {
     "data": {
      "text/html": [
       "<div>\n",
       "<style scoped>\n",
       "    .dataframe tbody tr th:only-of-type {\n",
       "        vertical-align: middle;\n",
       "    }\n",
       "\n",
       "    .dataframe tbody tr th {\n",
       "        vertical-align: top;\n",
       "    }\n",
       "\n",
       "    .dataframe thead th {\n",
       "        text-align: right;\n",
       "    }\n",
       "</style>\n",
       "<table border=\"1\" class=\"dataframe\">\n",
       "  <thead>\n",
       "    <tr style=\"text-align: right;\">\n",
       "      <th></th>\n",
       "      <th>DateCrawled</th>\n",
       "      <th>Price</th>\n",
       "      <th>VehicleType</th>\n",
       "      <th>RegistrationYear</th>\n",
       "      <th>Gearbox</th>\n",
       "      <th>Power</th>\n",
       "      <th>Model</th>\n",
       "      <th>Mileage</th>\n",
       "      <th>RegistrationMonth</th>\n",
       "      <th>FuelType</th>\n",
       "      <th>Brand</th>\n",
       "      <th>NotRepaired</th>\n",
       "      <th>DateCreated</th>\n",
       "      <th>NumberOfPictures</th>\n",
       "      <th>PostalCode</th>\n",
       "      <th>LastSeen</th>\n",
       "    </tr>\n",
       "  </thead>\n",
       "  <tbody>\n",
       "    <tr>\n",
       "      <th>0</th>\n",
       "      <td>24/03/2016 11:52</td>\n",
       "      <td>480</td>\n",
       "      <td>NaN</td>\n",
       "      <td>1993</td>\n",
       "      <td>manual</td>\n",
       "      <td>0</td>\n",
       "      <td>golf</td>\n",
       "      <td>150000</td>\n",
       "      <td>0</td>\n",
       "      <td>petrol</td>\n",
       "      <td>volkswagen</td>\n",
       "      <td>NaN</td>\n",
       "      <td>24/03/2016 00:00</td>\n",
       "      <td>0</td>\n",
       "      <td>70435</td>\n",
       "      <td>07/04/2016 03:16</td>\n",
       "    </tr>\n",
       "    <tr>\n",
       "      <th>1</th>\n",
       "      <td>24/03/2016 10:58</td>\n",
       "      <td>18300</td>\n",
       "      <td>coupe</td>\n",
       "      <td>2011</td>\n",
       "      <td>manual</td>\n",
       "      <td>190</td>\n",
       "      <td>NaN</td>\n",
       "      <td>125000</td>\n",
       "      <td>5</td>\n",
       "      <td>gasoline</td>\n",
       "      <td>audi</td>\n",
       "      <td>yes</td>\n",
       "      <td>24/03/2016 00:00</td>\n",
       "      <td>0</td>\n",
       "      <td>66954</td>\n",
       "      <td>07/04/2016 01:46</td>\n",
       "    </tr>\n",
       "    <tr>\n",
       "      <th>2</th>\n",
       "      <td>14/03/2016 12:52</td>\n",
       "      <td>9800</td>\n",
       "      <td>suv</td>\n",
       "      <td>2004</td>\n",
       "      <td>auto</td>\n",
       "      <td>163</td>\n",
       "      <td>grand</td>\n",
       "      <td>125000</td>\n",
       "      <td>8</td>\n",
       "      <td>gasoline</td>\n",
       "      <td>jeep</td>\n",
       "      <td>NaN</td>\n",
       "      <td>14/03/2016 00:00</td>\n",
       "      <td>0</td>\n",
       "      <td>90480</td>\n",
       "      <td>05/04/2016 12:47</td>\n",
       "    </tr>\n",
       "    <tr>\n",
       "      <th>3</th>\n",
       "      <td>17/03/2016 16:54</td>\n",
       "      <td>1500</td>\n",
       "      <td>small</td>\n",
       "      <td>2001</td>\n",
       "      <td>manual</td>\n",
       "      <td>75</td>\n",
       "      <td>golf</td>\n",
       "      <td>150000</td>\n",
       "      <td>6</td>\n",
       "      <td>petrol</td>\n",
       "      <td>volkswagen</td>\n",
       "      <td>no</td>\n",
       "      <td>17/03/2016 00:00</td>\n",
       "      <td>0</td>\n",
       "      <td>91074</td>\n",
       "      <td>17/03/2016 17:40</td>\n",
       "    </tr>\n",
       "    <tr>\n",
       "      <th>4</th>\n",
       "      <td>31/03/2016 17:25</td>\n",
       "      <td>3600</td>\n",
       "      <td>small</td>\n",
       "      <td>2008</td>\n",
       "      <td>manual</td>\n",
       "      <td>69</td>\n",
       "      <td>fabia</td>\n",
       "      <td>90000</td>\n",
       "      <td>7</td>\n",
       "      <td>gasoline</td>\n",
       "      <td>skoda</td>\n",
       "      <td>no</td>\n",
       "      <td>31/03/2016 00:00</td>\n",
       "      <td>0</td>\n",
       "      <td>60437</td>\n",
       "      <td>06/04/2016 10:17</td>\n",
       "    </tr>\n",
       "    <tr>\n",
       "      <th>...</th>\n",
       "      <td>...</td>\n",
       "      <td>...</td>\n",
       "      <td>...</td>\n",
       "      <td>...</td>\n",
       "      <td>...</td>\n",
       "      <td>...</td>\n",
       "      <td>...</td>\n",
       "      <td>...</td>\n",
       "      <td>...</td>\n",
       "      <td>...</td>\n",
       "      <td>...</td>\n",
       "      <td>...</td>\n",
       "      <td>...</td>\n",
       "      <td>...</td>\n",
       "      <td>...</td>\n",
       "      <td>...</td>\n",
       "    </tr>\n",
       "    <tr>\n",
       "      <th>354364</th>\n",
       "      <td>21/03/2016 09:50</td>\n",
       "      <td>0</td>\n",
       "      <td>NaN</td>\n",
       "      <td>2005</td>\n",
       "      <td>manual</td>\n",
       "      <td>0</td>\n",
       "      <td>colt</td>\n",
       "      <td>150000</td>\n",
       "      <td>7</td>\n",
       "      <td>petrol</td>\n",
       "      <td>mitsubishi</td>\n",
       "      <td>yes</td>\n",
       "      <td>21/03/2016 00:00</td>\n",
       "      <td>0</td>\n",
       "      <td>2694</td>\n",
       "      <td>21/03/2016 10:42</td>\n",
       "    </tr>\n",
       "    <tr>\n",
       "      <th>354365</th>\n",
       "      <td>14/03/2016 17:48</td>\n",
       "      <td>2200</td>\n",
       "      <td>NaN</td>\n",
       "      <td>2005</td>\n",
       "      <td>NaN</td>\n",
       "      <td>0</td>\n",
       "      <td>NaN</td>\n",
       "      <td>20000</td>\n",
       "      <td>1</td>\n",
       "      <td>NaN</td>\n",
       "      <td>sonstige_autos</td>\n",
       "      <td>NaN</td>\n",
       "      <td>14/03/2016 00:00</td>\n",
       "      <td>0</td>\n",
       "      <td>39576</td>\n",
       "      <td>06/04/2016 00:46</td>\n",
       "    </tr>\n",
       "    <tr>\n",
       "      <th>354366</th>\n",
       "      <td>05/03/2016 19:56</td>\n",
       "      <td>1199</td>\n",
       "      <td>convertible</td>\n",
       "      <td>2000</td>\n",
       "      <td>auto</td>\n",
       "      <td>101</td>\n",
       "      <td>fortwo</td>\n",
       "      <td>125000</td>\n",
       "      <td>3</td>\n",
       "      <td>petrol</td>\n",
       "      <td>smart</td>\n",
       "      <td>no</td>\n",
       "      <td>05/03/2016 00:00</td>\n",
       "      <td>0</td>\n",
       "      <td>26135</td>\n",
       "      <td>11/03/2016 18:17</td>\n",
       "    </tr>\n",
       "    <tr>\n",
       "      <th>354367</th>\n",
       "      <td>19/03/2016 18:57</td>\n",
       "      <td>9200</td>\n",
       "      <td>bus</td>\n",
       "      <td>1996</td>\n",
       "      <td>manual</td>\n",
       "      <td>102</td>\n",
       "      <td>transporter</td>\n",
       "      <td>150000</td>\n",
       "      <td>3</td>\n",
       "      <td>gasoline</td>\n",
       "      <td>volkswagen</td>\n",
       "      <td>no</td>\n",
       "      <td>19/03/2016 00:00</td>\n",
       "      <td>0</td>\n",
       "      <td>87439</td>\n",
       "      <td>07/04/2016 07:15</td>\n",
       "    </tr>\n",
       "    <tr>\n",
       "      <th>354368</th>\n",
       "      <td>20/03/2016 19:41</td>\n",
       "      <td>3400</td>\n",
       "      <td>wagon</td>\n",
       "      <td>2002</td>\n",
       "      <td>manual</td>\n",
       "      <td>100</td>\n",
       "      <td>golf</td>\n",
       "      <td>150000</td>\n",
       "      <td>6</td>\n",
       "      <td>gasoline</td>\n",
       "      <td>volkswagen</td>\n",
       "      <td>NaN</td>\n",
       "      <td>20/03/2016 00:00</td>\n",
       "      <td>0</td>\n",
       "      <td>40764</td>\n",
       "      <td>24/03/2016 12:45</td>\n",
       "    </tr>\n",
       "  </tbody>\n",
       "</table>\n",
       "<p>354369 rows × 16 columns</p>\n",
       "</div>"
      ],
      "text/plain": [
       "             DateCrawled  Price  VehicleType  RegistrationYear Gearbox  Power  \\\n",
       "0       24/03/2016 11:52    480          NaN              1993  manual      0   \n",
       "1       24/03/2016 10:58  18300        coupe              2011  manual    190   \n",
       "2       14/03/2016 12:52   9800          suv              2004    auto    163   \n",
       "3       17/03/2016 16:54   1500        small              2001  manual     75   \n",
       "4       31/03/2016 17:25   3600        small              2008  manual     69   \n",
       "...                  ...    ...          ...               ...     ...    ...   \n",
       "354364  21/03/2016 09:50      0          NaN              2005  manual      0   \n",
       "354365  14/03/2016 17:48   2200          NaN              2005     NaN      0   \n",
       "354366  05/03/2016 19:56   1199  convertible              2000    auto    101   \n",
       "354367  19/03/2016 18:57   9200          bus              1996  manual    102   \n",
       "354368  20/03/2016 19:41   3400        wagon              2002  manual    100   \n",
       "\n",
       "              Model  Mileage  RegistrationMonth  FuelType           Brand  \\\n",
       "0              golf   150000                  0    petrol      volkswagen   \n",
       "1               NaN   125000                  5  gasoline            audi   \n",
       "2             grand   125000                  8  gasoline            jeep   \n",
       "3              golf   150000                  6    petrol      volkswagen   \n",
       "4             fabia    90000                  7  gasoline           skoda   \n",
       "...             ...      ...                ...       ...             ...   \n",
       "354364         colt   150000                  7    petrol      mitsubishi   \n",
       "354365          NaN    20000                  1       NaN  sonstige_autos   \n",
       "354366       fortwo   125000                  3    petrol           smart   \n",
       "354367  transporter   150000                  3  gasoline      volkswagen   \n",
       "354368         golf   150000                  6  gasoline      volkswagen   \n",
       "\n",
       "       NotRepaired       DateCreated  NumberOfPictures  PostalCode  \\\n",
       "0              NaN  24/03/2016 00:00                 0       70435   \n",
       "1              yes  24/03/2016 00:00                 0       66954   \n",
       "2              NaN  14/03/2016 00:00                 0       90480   \n",
       "3               no  17/03/2016 00:00                 0       91074   \n",
       "4               no  31/03/2016 00:00                 0       60437   \n",
       "...            ...               ...               ...         ...   \n",
       "354364         yes  21/03/2016 00:00                 0        2694   \n",
       "354365         NaN  14/03/2016 00:00                 0       39576   \n",
       "354366          no  05/03/2016 00:00                 0       26135   \n",
       "354367          no  19/03/2016 00:00                 0       87439   \n",
       "354368         NaN  20/03/2016 00:00                 0       40764   \n",
       "\n",
       "                LastSeen  \n",
       "0       07/04/2016 03:16  \n",
       "1       07/04/2016 01:46  \n",
       "2       05/04/2016 12:47  \n",
       "3       17/03/2016 17:40  \n",
       "4       06/04/2016 10:17  \n",
       "...                  ...  \n",
       "354364  21/03/2016 10:42  \n",
       "354365  06/04/2016 00:46  \n",
       "354366  11/03/2016 18:17  \n",
       "354367  07/04/2016 07:15  \n",
       "354368  24/03/2016 12:45  \n",
       "\n",
       "[354369 rows x 16 columns]"
      ]
     },
     "execution_count": 2,
     "metadata": {},
     "output_type": "execute_result"
    }
   ],
   "source": [
    "#bringing in data\n",
    "data = pd.read_csv('/datasets/car_data.csv')\n",
    "data"
   ]
  },
  {
   "cell_type": "markdown",
   "metadata": {},
   "source": [
    "## Data preparation"
   ]
  },
  {
   "cell_type": "code",
   "execution_count": 3,
   "metadata": {
    "scrolled": true
   },
   "outputs": [
    {
     "name": "stdout",
     "output_type": "stream",
     "text": [
      "<class 'pandas.core.frame.DataFrame'>\n",
      "RangeIndex: 354369 entries, 0 to 354368\n",
      "Data columns (total 16 columns):\n",
      " #   Column             Non-Null Count   Dtype \n",
      "---  ------             --------------   ----- \n",
      " 0   DateCrawled        354369 non-null  object\n",
      " 1   Price              354369 non-null  int64 \n",
      " 2   VehicleType        316879 non-null  object\n",
      " 3   RegistrationYear   354369 non-null  int64 \n",
      " 4   Gearbox            334536 non-null  object\n",
      " 5   Power              354369 non-null  int64 \n",
      " 6   Model              334664 non-null  object\n",
      " 7   Mileage            354369 non-null  int64 \n",
      " 8   RegistrationMonth  354369 non-null  int64 \n",
      " 9   FuelType           321474 non-null  object\n",
      " 10  Brand              354369 non-null  object\n",
      " 11  NotRepaired        283215 non-null  object\n",
      " 12  DateCreated        354369 non-null  object\n",
      " 13  NumberOfPictures   354369 non-null  int64 \n",
      " 14  PostalCode         354369 non-null  int64 \n",
      " 15  LastSeen           354369 non-null  object\n",
      "dtypes: int64(7), object(9)\n",
      "memory usage: 43.3+ MB\n"
     ]
    }
   ],
   "source": [
    "data.info()"
   ]
  },
  {
   "cell_type": "markdown",
   "metadata": {},
   "source": [
    "__Converting time features to datetime type__"
   ]
  },
  {
   "cell_type": "code",
   "execution_count": 4,
   "metadata": {},
   "outputs": [],
   "source": [
    "data['DateCrawled'] = pd.to_datetime(data['DateCrawled'], format='%d/%m/%Y %H:%M')\n",
    "data['DateCreated'] = pd.to_datetime(data['DateCreated'], format='%d/%m/%Y %H:%M')\n",
    "data['LastSeen'] = pd.to_datetime(data['LastSeen'], format='%d/%m/%Y %H:%M')"
   ]
  },
  {
   "cell_type": "code",
   "execution_count": 5,
   "metadata": {
    "scrolled": true
   },
   "outputs": [
    {
     "name": "stdout",
     "output_type": "stream",
     "text": [
      "<class 'pandas.core.frame.DataFrame'>\n",
      "RangeIndex: 354369 entries, 0 to 354368\n",
      "Data columns (total 16 columns):\n",
      " #   Column             Non-Null Count   Dtype         \n",
      "---  ------             --------------   -----         \n",
      " 0   DateCrawled        354369 non-null  datetime64[ns]\n",
      " 1   Price              354369 non-null  int64         \n",
      " 2   VehicleType        316879 non-null  object        \n",
      " 3   RegistrationYear   354369 non-null  int64         \n",
      " 4   Gearbox            334536 non-null  object        \n",
      " 5   Power              354369 non-null  int64         \n",
      " 6   Model              334664 non-null  object        \n",
      " 7   Mileage            354369 non-null  int64         \n",
      " 8   RegistrationMonth  354369 non-null  int64         \n",
      " 9   FuelType           321474 non-null  object        \n",
      " 10  Brand              354369 non-null  object        \n",
      " 11  NotRepaired        283215 non-null  object        \n",
      " 12  DateCreated        354369 non-null  datetime64[ns]\n",
      " 13  NumberOfPictures   354369 non-null  int64         \n",
      " 14  PostalCode         354369 non-null  int64         \n",
      " 15  LastSeen           354369 non-null  datetime64[ns]\n",
      "dtypes: datetime64[ns](3), int64(7), object(6)\n",
      "memory usage: 43.3+ MB\n"
     ]
    }
   ],
   "source": [
    "data.info()"
   ]
  },
  {
   "cell_type": "markdown",
   "metadata": {},
   "source": [
    "<span style='color:green'> __It appears all the columns with missing values are categorical. I will check the unique values for each column with missing values__ </span>"
   ]
  },
  {
   "cell_type": "markdown",
   "metadata": {},
   "source": [
    "<div style=\"border: 5px solid green; padding: 15px; margin: 5px\">\n",
    "<b>   Reviewer's comment </b>\n",
    "    \n",
    "    \n",
    "Seems to be true. \n",
    "\n",
    "</div>"
   ]
  },
  {
   "cell_type": "code",
   "execution_count": 6,
   "metadata": {},
   "outputs": [
    {
     "data": {
      "text/plain": [
       "array([nan, 'coupe', 'suv', 'small', 'sedan', 'convertible', 'bus',\n",
       "       'wagon', 'other'], dtype=object)"
      ]
     },
     "execution_count": 6,
     "metadata": {},
     "output_type": "execute_result"
    }
   ],
   "source": [
    "data['VehicleType'].unique()"
   ]
  },
  {
   "cell_type": "code",
   "execution_count": 7,
   "metadata": {},
   "outputs": [
    {
     "data": {
      "text/plain": [
       "array(['manual', 'auto', nan], dtype=object)"
      ]
     },
     "execution_count": 7,
     "metadata": {},
     "output_type": "execute_result"
    }
   ],
   "source": [
    "data['Gearbox'].unique()"
   ]
  },
  {
   "cell_type": "code",
   "execution_count": 8,
   "metadata": {},
   "outputs": [
    {
     "data": {
      "text/plain": [
       "250"
      ]
     },
     "execution_count": 8,
     "metadata": {},
     "output_type": "execute_result"
    }
   ],
   "source": [
    "data['Model'].nunique()"
   ]
  },
  {
   "cell_type": "code",
   "execution_count": 9,
   "metadata": {},
   "outputs": [
    {
     "data": {
      "text/plain": [
       "array(['petrol', 'gasoline', nan, 'lpg', 'other', 'hybrid', 'cng',\n",
       "       'electric'], dtype=object)"
      ]
     },
     "execution_count": 9,
     "metadata": {},
     "output_type": "execute_result"
    }
   ],
   "source": [
    "data['FuelType'].unique()"
   ]
  },
  {
   "cell_type": "code",
   "execution_count": 10,
   "metadata": {},
   "outputs": [
    {
     "data": {
      "text/plain": [
       "array([nan, 'yes', 'no'], dtype=object)"
      ]
     },
     "execution_count": 10,
     "metadata": {},
     "output_type": "execute_result"
    }
   ],
   "source": [
    "data['NotRepaired'].unique()"
   ]
  },
  {
   "cell_type": "markdown",
   "metadata": {},
   "source": [
    "<span style='color:green'> Since each column that has missing values is categorical data and there is no way to deduce what any of the missing values should be, the data will be filled with string \"Unknown\". The features above, \"VehicleType\", \"Gearbox\", \"Model\", \"FuelType\", and \"NoReplaced\" seem to be features that shouldn't be ignored, but there is plenty of other information in the rows that should not be ignored. </span>"
   ]
  },
  {
   "cell_type": "code",
   "execution_count": 11,
   "metadata": {},
   "outputs": [
    {
     "name": "stdout",
     "output_type": "stream",
     "text": [
      "<class 'pandas.core.frame.DataFrame'>\n",
      "RangeIndex: 354369 entries, 0 to 354368\n",
      "Data columns (total 16 columns):\n",
      " #   Column             Non-Null Count   Dtype         \n",
      "---  ------             --------------   -----         \n",
      " 0   DateCrawled        354369 non-null  datetime64[ns]\n",
      " 1   Price              354369 non-null  int64         \n",
      " 2   VehicleType        354369 non-null  object        \n",
      " 3   RegistrationYear   354369 non-null  int64         \n",
      " 4   Gearbox            354369 non-null  object        \n",
      " 5   Power              354369 non-null  int64         \n",
      " 6   Model              354369 non-null  object        \n",
      " 7   Mileage            354369 non-null  int64         \n",
      " 8   RegistrationMonth  354369 non-null  int64         \n",
      " 9   FuelType           354369 non-null  object        \n",
      " 10  Brand              354369 non-null  object        \n",
      " 11  NotRepaired        354369 non-null  object        \n",
      " 12  DateCreated        354369 non-null  datetime64[ns]\n",
      " 13  NumberOfPictures   354369 non-null  int64         \n",
      " 14  PostalCode         354369 non-null  int64         \n",
      " 15  LastSeen           354369 non-null  datetime64[ns]\n",
      "dtypes: datetime64[ns](3), int64(7), object(6)\n",
      "memory usage: 43.3+ MB\n"
     ]
    }
   ],
   "source": [
    "data['VehicleType'] = data['VehicleType'].fillna('Unknown')\n",
    "data['Gearbox'] = data['Gearbox'].fillna('Unknown')\n",
    "data['Model'] = data['Model'].fillna('Unknown')\n",
    "data['FuelType'] = data['FuelType'].fillna('Unknown')\n",
    "data['NotRepaired'] = data['NotRepaired'].fillna('Maybe')\n",
    "data.info()"
   ]
  },
  {
   "cell_type": "markdown",
   "metadata": {},
   "source": [
    "<div style=\"border: 5px solid red; padding: 15px; margin: 5px\">\n",
    "<b> Reviewer's comment</b>\n",
    "    \n",
    "Let's not drop so many rows :) Instead, replace missing values with some unique row, such as \"Unknown\". Moreover, it is normal that sometimes sellers do not specify some information. The model should \"know\" about such cases.\n",
    "\n",
    "</div>"
   ]
  },
  {
   "cell_type": "markdown",
   "metadata": {},
   "source": [
    "<div style=\"border: 5px solid blue; padding: 15px; margin: 5px\">\n",
    "<b>   Reviewee's comment </b>\n",
    "    \n",
    "Roger that. When you put it that way, you make it seem so simple. Check for fixed code above\n",
    "\n",
    "</div>"
   ]
  },
  {
   "cell_type": "markdown",
   "metadata": {},
   "source": [
    "<div style=\"border: 5px solid green; padding: 15px; margin: 5px\">\n",
    "<b>   Reviewer's comment 2 </b>\n",
    "    \n",
    "    \n",
    "Good! \n",
    "\n",
    "</div>"
   ]
  },
  {
   "cell_type": "markdown",
   "metadata": {},
   "source": [
    "I happened to notice a zero in the column of registration month. I will explore if that zero means something"
   ]
  },
  {
   "cell_type": "code",
   "execution_count": 12,
   "metadata": {},
   "outputs": [
    {
     "data": {
      "text/plain": [
       "array([ 0,  5,  8,  6,  7, 10, 12, 11,  2,  3,  1,  4,  9])"
      ]
     },
     "execution_count": 12,
     "metadata": {},
     "output_type": "execute_result"
    }
   ],
   "source": [
    "data['RegistrationMonth'].unique()"
   ]
  },
  {
   "cell_type": "code",
   "execution_count": 13,
   "metadata": {},
   "outputs": [
    {
     "data": {
      "text/plain": [
       "<AxesSubplot:title={'center':'Number of Occurances of Each Registration Month'}, ylabel='Frequency'>"
      ]
     },
     "execution_count": 13,
     "metadata": {},
     "output_type": "execute_result"
    },
    {
     "data": {
      "image/png": "[encoded data removed]",
      "text/plain": [
       "<Figure size 640x480 with 1 Axes>"
      ]
     },
     "metadata": {},
     "output_type": "display_data"
    }
   ],
   "source": [
    "data['RegistrationMonth'].plot(kind='hist', title='Number of Occurances of Each Registration Month', xlabel='Registration Month')\n",
    "#quick glance at the quantity compared to others"
   ]
  },
  {
   "cell_type": "markdown",
   "metadata": {},
   "source": [
    "__I am unsure what the zero represents in this column since the numbers 1 through 12 are present. Intuitively, 1-12 would represent Jan-Dec. The number zero occurs more often then some other months. I suppose it's possible that zero means they do not know what month the car was registered. However, that seems peculiar given that this dataset had missing values in other columns. I would think they'd leave this info missing like the others. By inspection of the dataset, the registration month doesn't correspond to any of the months in the other date columns.__"
   ]
  },
  {
   "cell_type": "markdown",
   "metadata": {},
   "source": [
    "What I will do first is compare the prices to the vehicles with a zero in the Registration column to see if there is any type of pattern."
   ]
  },
  {
   "cell_type": "code",
   "execution_count": 14,
   "metadata": {},
   "outputs": [
    {
     "data": {
      "text/plain": [
       "<AxesSubplot:title={'center':'Price of \"Zero Month\" Registration'}>"
      ]
     },
     "execution_count": 14,
     "metadata": {},
     "output_type": "execute_result"
    },
    {
     "data": {
      "image/png": "[encoded data removed]",
      "text/plain": [
       "<Figure size 640x480 with 1 Axes>"
      ]
     },
     "metadata": {},
     "output_type": "display_data"
    }
   ],
   "source": [
    "reg_zero = data[data['RegistrationMonth'] == 0]\n",
    "reg_zero['Price'].plot(kind='box', title='Price of \"Zero Month\" Registration', xlabel='Price', vert=False)"
   ]
  },
  {
   "cell_type": "code",
   "execution_count": 15,
   "metadata": {},
   "outputs": [
    {
     "data": {
      "text/plain": [
       "<AxesSubplot:title={'center':'Price of \"Zero Registration\" Month'}, ylabel='Frequency'>"
      ]
     },
     "execution_count": 15,
     "metadata": {},
     "output_type": "execute_result"
    },
    {
     "data": {
      "image/png": "[encoded data removed]",
      "text/plain": [
       "<Figure size 640x480 with 1 Axes>"
      ]
     },
     "metadata": {},
     "output_type": "display_data"
    }
   ],
   "source": [
    "reg_zero['Price'].plot(kind='hist', title='Price of \"Zero Registration\" Month', xlabel='Price')"
   ]
  },
  {
   "cell_type": "markdown",
   "metadata": {},
   "source": [
    "From this box plot I can see most of the prices are less than about 5000 euros. There are outlier values going all the way up to about 200k euros. The histrogram shows the data is heavily right skewed. All in all, I cannot conclude anything about the \"zero registration\" months' prices.\n",
    "\n",
    "With that being said, I will leave them in. They must mean something behind the scenes since they weren't missing values."
   ]
  },
  {
   "cell_type": "markdown",
   "metadata": {},
   "source": [
    "<span style='color:blue'> __Time to check for duplicates.__ </span>"
   ]
  },
  {
   "cell_type": "code",
   "execution_count": 16,
   "metadata": {},
   "outputs": [
    {
     "data": {
      "text/plain": [
       "262"
      ]
     },
     "execution_count": 16,
     "metadata": {},
     "output_type": "execute_result"
    }
   ],
   "source": [
    "data.duplicated().sum()"
   ]
  },
  {
   "cell_type": "code",
   "execution_count": 17,
   "metadata": {
    "scrolled": true
   },
   "outputs": [
    {
     "data": {
      "text/html": [
       "<div>\n",
       "<style scoped>\n",
       "    .dataframe tbody tr th:only-of-type {\n",
       "        vertical-align: middle;\n",
       "    }\n",
       "\n",
       "    .dataframe tbody tr th {\n",
       "        vertical-align: top;\n",
       "    }\n",
       "\n",
       "    .dataframe thead th {\n",
       "        text-align: right;\n",
       "    }\n",
       "</style>\n",
       "<table border=\"1\" class=\"dataframe\">\n",
       "  <thead>\n",
       "    <tr style=\"text-align: right;\">\n",
       "      <th></th>\n",
       "      <th>DateCrawled</th>\n",
       "      <th>Price</th>\n",
       "      <th>VehicleType</th>\n",
       "      <th>RegistrationYear</th>\n",
       "      <th>Gearbox</th>\n",
       "      <th>Power</th>\n",
       "      <th>Model</th>\n",
       "      <th>Mileage</th>\n",
       "      <th>RegistrationMonth</th>\n",
       "      <th>FuelType</th>\n",
       "      <th>Brand</th>\n",
       "      <th>NotRepaired</th>\n",
       "      <th>DateCreated</th>\n",
       "      <th>NumberOfPictures</th>\n",
       "      <th>PostalCode</th>\n",
       "      <th>LastSeen</th>\n",
       "    </tr>\n",
       "  </thead>\n",
       "  <tbody>\n",
       "    <tr>\n",
       "      <th>14266</th>\n",
       "      <td>2016-03-21 19:06:00</td>\n",
       "      <td>5999</td>\n",
       "      <td>small</td>\n",
       "      <td>2009</td>\n",
       "      <td>manual</td>\n",
       "      <td>80</td>\n",
       "      <td>polo</td>\n",
       "      <td>125000</td>\n",
       "      <td>5</td>\n",
       "      <td>petrol</td>\n",
       "      <td>volkswagen</td>\n",
       "      <td>no</td>\n",
       "      <td>2016-03-21</td>\n",
       "      <td>0</td>\n",
       "      <td>65529</td>\n",
       "      <td>2016-04-05 20:47:00</td>\n",
       "    </tr>\n",
       "    <tr>\n",
       "      <th>27568</th>\n",
       "      <td>2016-03-23 10:38:00</td>\n",
       "      <td>12200</td>\n",
       "      <td>bus</td>\n",
       "      <td>2011</td>\n",
       "      <td>manual</td>\n",
       "      <td>125</td>\n",
       "      <td>zafira</td>\n",
       "      <td>40000</td>\n",
       "      <td>10</td>\n",
       "      <td>gasoline</td>\n",
       "      <td>opel</td>\n",
       "      <td>no</td>\n",
       "      <td>2016-03-23</td>\n",
       "      <td>0</td>\n",
       "      <td>26629</td>\n",
       "      <td>2016-04-05 07:44:00</td>\n",
       "    </tr>\n",
       "    <tr>\n",
       "      <th>31599</th>\n",
       "      <td>2016-04-03 20:41:00</td>\n",
       "      <td>4950</td>\n",
       "      <td>wagon</td>\n",
       "      <td>2003</td>\n",
       "      <td>auto</td>\n",
       "      <td>170</td>\n",
       "      <td>e_klasse</td>\n",
       "      <td>150000</td>\n",
       "      <td>4</td>\n",
       "      <td>gasoline</td>\n",
       "      <td>mercedes_benz</td>\n",
       "      <td>no</td>\n",
       "      <td>2016-04-03</td>\n",
       "      <td>0</td>\n",
       "      <td>48432</td>\n",
       "      <td>2016-04-05 21:17:00</td>\n",
       "    </tr>\n",
       "    <tr>\n",
       "      <th>33138</th>\n",
       "      <td>2016-03-07 20:45:00</td>\n",
       "      <td>10900</td>\n",
       "      <td>convertible</td>\n",
       "      <td>2005</td>\n",
       "      <td>auto</td>\n",
       "      <td>163</td>\n",
       "      <td>clk</td>\n",
       "      <td>125000</td>\n",
       "      <td>5</td>\n",
       "      <td>petrol</td>\n",
       "      <td>mercedes_benz</td>\n",
       "      <td>no</td>\n",
       "      <td>2016-03-07</td>\n",
       "      <td>0</td>\n",
       "      <td>61200</td>\n",
       "      <td>2016-03-21 03:45:00</td>\n",
       "    </tr>\n",
       "    <tr>\n",
       "      <th>43656</th>\n",
       "      <td>2016-03-13 20:48:00</td>\n",
       "      <td>4200</td>\n",
       "      <td>sedan</td>\n",
       "      <td>2003</td>\n",
       "      <td>manual</td>\n",
       "      <td>105</td>\n",
       "      <td>golf</td>\n",
       "      <td>150000</td>\n",
       "      <td>10</td>\n",
       "      <td>gasoline</td>\n",
       "      <td>volkswagen</td>\n",
       "      <td>no</td>\n",
       "      <td>2016-03-13</td>\n",
       "      <td>0</td>\n",
       "      <td>14482</td>\n",
       "      <td>2016-03-13 20:48:00</td>\n",
       "    </tr>\n",
       "    <tr>\n",
       "      <th>...</th>\n",
       "      <td>...</td>\n",
       "      <td>...</td>\n",
       "      <td>...</td>\n",
       "      <td>...</td>\n",
       "      <td>...</td>\n",
       "      <td>...</td>\n",
       "      <td>...</td>\n",
       "      <td>...</td>\n",
       "      <td>...</td>\n",
       "      <td>...</td>\n",
       "      <td>...</td>\n",
       "      <td>...</td>\n",
       "      <td>...</td>\n",
       "      <td>...</td>\n",
       "      <td>...</td>\n",
       "      <td>...</td>\n",
       "    </tr>\n",
       "    <tr>\n",
       "      <th>349709</th>\n",
       "      <td>2016-04-03 20:52:00</td>\n",
       "      <td>700</td>\n",
       "      <td>small</td>\n",
       "      <td>1999</td>\n",
       "      <td>manual</td>\n",
       "      <td>60</td>\n",
       "      <td>ibiza</td>\n",
       "      <td>150000</td>\n",
       "      <td>12</td>\n",
       "      <td>petrol</td>\n",
       "      <td>seat</td>\n",
       "      <td>yes</td>\n",
       "      <td>2016-04-03</td>\n",
       "      <td>0</td>\n",
       "      <td>6268</td>\n",
       "      <td>2016-04-05 21:47:00</td>\n",
       "    </tr>\n",
       "    <tr>\n",
       "      <th>351555</th>\n",
       "      <td>2016-03-26 16:54:00</td>\n",
       "      <td>3150</td>\n",
       "      <td>bus</td>\n",
       "      <td>2003</td>\n",
       "      <td>manual</td>\n",
       "      <td>86</td>\n",
       "      <td>transit</td>\n",
       "      <td>150000</td>\n",
       "      <td>11</td>\n",
       "      <td>gasoline</td>\n",
       "      <td>ford</td>\n",
       "      <td>no</td>\n",
       "      <td>2016-03-26</td>\n",
       "      <td>0</td>\n",
       "      <td>96148</td>\n",
       "      <td>2016-04-02 07:47:00</td>\n",
       "    </tr>\n",
       "    <tr>\n",
       "      <th>352384</th>\n",
       "      <td>2016-03-15 21:54:00</td>\n",
       "      <td>5900</td>\n",
       "      <td>wagon</td>\n",
       "      <td>2006</td>\n",
       "      <td>manual</td>\n",
       "      <td>129</td>\n",
       "      <td>3er</td>\n",
       "      <td>150000</td>\n",
       "      <td>12</td>\n",
       "      <td>petrol</td>\n",
       "      <td>bmw</td>\n",
       "      <td>no</td>\n",
       "      <td>2016-03-15</td>\n",
       "      <td>0</td>\n",
       "      <td>92526</td>\n",
       "      <td>2016-03-20 21:17:00</td>\n",
       "    </tr>\n",
       "    <tr>\n",
       "      <th>353057</th>\n",
       "      <td>2016-03-05 14:16:00</td>\n",
       "      <td>9500</td>\n",
       "      <td>small</td>\n",
       "      <td>2013</td>\n",
       "      <td>manual</td>\n",
       "      <td>105</td>\n",
       "      <td>ibiza</td>\n",
       "      <td>40000</td>\n",
       "      <td>5</td>\n",
       "      <td>petrol</td>\n",
       "      <td>seat</td>\n",
       "      <td>no</td>\n",
       "      <td>2016-03-04</td>\n",
       "      <td>0</td>\n",
       "      <td>61381</td>\n",
       "      <td>2016-04-05 19:18:00</td>\n",
       "    </tr>\n",
       "    <tr>\n",
       "      <th>353727</th>\n",
       "      <td>2016-03-20 17:56:00</td>\n",
       "      <td>1</td>\n",
       "      <td>Unknown</td>\n",
       "      <td>2000</td>\n",
       "      <td>Unknown</td>\n",
       "      <td>0</td>\n",
       "      <td>Unknown</td>\n",
       "      <td>150000</td>\n",
       "      <td>0</td>\n",
       "      <td>Unknown</td>\n",
       "      <td>bmw</td>\n",
       "      <td>Maybe</td>\n",
       "      <td>2016-03-20</td>\n",
       "      <td>0</td>\n",
       "      <td>42329</td>\n",
       "      <td>2016-04-07 00:46:00</td>\n",
       "    </tr>\n",
       "  </tbody>\n",
       "</table>\n",
       "<p>262 rows × 16 columns</p>\n",
       "</div>"
      ],
      "text/plain": [
       "               DateCrawled  Price  VehicleType  RegistrationYear  Gearbox  \\\n",
       "14266  2016-03-21 19:06:00   5999        small              2009   manual   \n",
       "27568  2016-03-23 10:38:00  12200          bus              2011   manual   \n",
       "31599  2016-04-03 20:41:00   4950        wagon              2003     auto   \n",
       "33138  2016-03-07 20:45:00  10900  convertible              2005     auto   \n",
       "43656  2016-03-13 20:48:00   4200        sedan              2003   manual   \n",
       "...                    ...    ...          ...               ...      ...   \n",
       "349709 2016-04-03 20:52:00    700        small              1999   manual   \n",
       "351555 2016-03-26 16:54:00   3150          bus              2003   manual   \n",
       "352384 2016-03-15 21:54:00   5900        wagon              2006   manual   \n",
       "353057 2016-03-05 14:16:00   9500        small              2013   manual   \n",
       "353727 2016-03-20 17:56:00      1      Unknown              2000  Unknown   \n",
       "\n",
       "        Power     Model  Mileage  RegistrationMonth  FuelType          Brand  \\\n",
       "14266      80      polo   125000                  5    petrol     volkswagen   \n",
       "27568     125    zafira    40000                 10  gasoline           opel   \n",
       "31599     170  e_klasse   150000                  4  gasoline  mercedes_benz   \n",
       "33138     163       clk   125000                  5    petrol  mercedes_benz   \n",
       "43656     105      golf   150000                 10  gasoline     volkswagen   \n",
       "...       ...       ...      ...                ...       ...            ...   \n",
       "349709     60     ibiza   150000                 12    petrol           seat   \n",
       "351555     86   transit   150000                 11  gasoline           ford   \n",
       "352384    129       3er   150000                 12    petrol            bmw   \n",
       "353057    105     ibiza    40000                  5    petrol           seat   \n",
       "353727      0   Unknown   150000                  0   Unknown            bmw   \n",
       "\n",
       "       NotRepaired DateCreated  NumberOfPictures  PostalCode  \\\n",
       "14266           no  2016-03-21                 0       65529   \n",
       "27568           no  2016-03-23                 0       26629   \n",
       "31599           no  2016-04-03                 0       48432   \n",
       "33138           no  2016-03-07                 0       61200   \n",
       "43656           no  2016-03-13                 0       14482   \n",
       "...            ...         ...               ...         ...   \n",
       "349709         yes  2016-04-03                 0        6268   \n",
       "351555          no  2016-03-26                 0       96148   \n",
       "352384          no  2016-03-15                 0       92526   \n",
       "353057          no  2016-03-04                 0       61381   \n",
       "353727       Maybe  2016-03-20                 0       42329   \n",
       "\n",
       "                  LastSeen  \n",
       "14266  2016-04-05 20:47:00  \n",
       "27568  2016-04-05 07:44:00  \n",
       "31599  2016-04-05 21:17:00  \n",
       "33138  2016-03-21 03:45:00  \n",
       "43656  2016-03-13 20:48:00  \n",
       "...                    ...  \n",
       "349709 2016-04-05 21:47:00  \n",
       "351555 2016-04-02 07:47:00  \n",
       "352384 2016-03-20 21:17:00  \n",
       "353057 2016-04-05 19:18:00  \n",
       "353727 2016-04-07 00:46:00  \n",
       "\n",
       "[262 rows x 16 columns]"
      ]
     },
     "execution_count": 17,
     "metadata": {},
     "output_type": "execute_result"
    }
   ],
   "source": [
    "data[data.duplicated()]"
   ]
  },
  {
   "cell_type": "markdown",
   "metadata": {},
   "source": [
    "<span style='color:red'> __So if there's a duplicate, because they hve the same dates and times, they are for sure the same exact vehicle. They are truly not needed__ </span>"
   ]
  },
  {
   "cell_type": "code",
   "execution_count": 18,
   "metadata": {},
   "outputs": [
    {
     "data": {
      "text/plain": [
       "0"
      ]
     },
     "execution_count": 18,
     "metadata": {},
     "output_type": "execute_result"
    }
   ],
   "source": [
    "data = data.drop_duplicates()\n",
    "data = data.reset_index(drop=True)\n",
    "data.duplicated().sum()"
   ]
  },
  {
   "cell_type": "markdown",
   "metadata": {},
   "source": [
    "Clear for takeoff"
   ]
  },
  {
   "cell_type": "markdown",
   "metadata": {},
   "source": [
    "<div style=\"border: 5px solid blue; padding: 15px; margin: 5px\">\n",
    "<b>   Reviewee's comment </b>\n",
    "    \n",
    "Thank you for the heads up about the duplicates. Slipped my mind\n",
    "\n",
    "</div>"
   ]
  },
  {
   "cell_type": "markdown",
   "metadata": {},
   "source": [
    "<div style=\"border: 5px solid green; padding: 15px; margin: 5px\">\n",
    "<b>   Reviewer's comment 2 </b>\n",
    "    \n",
    "    \n",
    "Glad to help! \n",
    "</div>"
   ]
  },
  {
   "cell_type": "markdown",
   "metadata": {},
   "source": [
    "<center><img src=\"https://64.media.tumblr.com/9926251f82facda4bc0623b3d993e286/68860c738c034350-b9/s540x810/87fe6e9911315dc94013a4dcb32563237b0474da.gif\" /></center>"
   ]
  },
  {
   "cell_type": "markdown",
   "metadata": {},
   "source": [
    "## Model training"
   ]
  },
  {
   "cell_type": "code",
   "execution_count": 19,
   "metadata": {},
   "outputs": [],
   "source": [
    "cat_columns = ['VehicleType', 'Gearbox', 'Model', 'FuelType', 'Brand', 'NotRepaired'] #categorical features that will be used\n",
    "droppies = ['Price', 'DateCrawled', 'DateCreated', 'LastSeen', 'RegistrationMonth', 'RegistrationYear', 'PostalCode', 'NumberOfPictures'] #the columns to be dropped features"
   ]
  },
  {
   "cell_type": "markdown",
   "metadata": {},
   "source": [
    "Columns that are dates will be excluded from the features because they are in reference to activity for an online profile. That being said, it does not have anything to do with the physical car itself."
   ]
  },
  {
   "cell_type": "markdown",
   "metadata": {},
   "source": [
    "<div style=\"border: 5px solid green; padding: 15px; margin: 5px\">\n",
    "<b>   Reviewer's comment </b>\n",
    "    \n",
    "Agreed! We don't need these columns. \n",
    "    \n",
    "</div>\n",
    "<div style=\"border: 5px solid gold; padding: 15px; margin: 5px\">\n",
    "<b>   Reviewer's comment </b>\n",
    "    \n",
    "- `DateCreated`, however, can be used to calculate the publication period. The longer an active advertisement remains published, the less likely the car is being sold, likely due to an overpriced offer.\n",
    "\n",
    "\n",
    "    \n",
    "- Consider comparing max dates in the `RegistrationYear` and  `DateCrawled` columns. Vehicle should not be registered after the data was downloaded :) \n",
    "\n",
    "    \n",
    "    \n",
    "- You can then drop `RegistrationMonth`, `RegistrationYear`, `PostalCode` and `NumberOfPictures`. It will significantly simplify the training process. \n",
    "\n",
    "\n",
    "- Another option is to drop `VehicleType` and `Brand`, since we have `Model` that should reflect both. \n",
    "\n",
    "\n",
    "\n",
    "- Consider analyzing categories as well. Petrol and gasoline refer to the same fuel, so we can use one of these categories. There are some other rare fuel types that can be dropped. If a category appears only in the training or validation subset, for instance, and we use `handle_unknown='ignore'`, the linear model might miss important signals in validation or make predictions with incomplete features thus breaking the assumptions of linearity. It may be helpful to make sure that training and validation subsets use the same feature columns after encoding. \n",
    "\n",
    "</div><div style=\"border: 5px solid red; padding: 15px; margin: 5px\">\n",
    "<b>   Reviewer's comment </b>\n",
    "    \n",
    "   \n",
    "- After removing unnecessary columns, it makes sense to check the data for duplicates again, as the dataset will later be splitted into training and test sets. Removing specific columns can cause previously distinct rows to become identical. If a dropped column contained unique values (ID or timestamp), removing it may make multiple rows appear the same. Before we split the data, we need to make sure that the dataframe without `'DateCrawled', 'DateCreated', 'LastSeen'` columns does not have any duplicates. Please note that we should include Price here.\n",
    "\n",
    "\n",
    "\n",
    "- Are there any outliers in the data?  Please call the `describe` method and display charts. Drop abnormal values if they exist. Hint: `price` and `power` columns definitely have outliers. Look at their lower and upper boundaries. \n",
    "</div>"
   ]
  },
  {
   "cell_type": "markdown",
   "metadata": {},
   "source": [
    "<div style=\"border: 5px dashed blue; padding: 15px; margin: 5px\">\n",
    "<b>   Reviewee's comment </b>\n",
    "    \n",
    "Cool, thanks for the advice and critique. It makes a lot of sense to recheck for duplicates and whatnot. I'll surely impliment it below at some point. I'm going to try and fit it in just right in my code\n",
    "\n",
    "</div>"
   ]
  },
  {
   "cell_type": "markdown",
   "metadata": {},
   "source": [
    "<div style=\"border: 5px solid green; padding: 15px; margin: 5px\">\n",
    "<b>   Reviewer's comment 2 </b>\n",
    "    \n",
    "    \n",
    "Good! :)\n",
    "\n",
    "\n",
    "</div>"
   ]
  },
  {
   "cell_type": "markdown",
   "metadata": {},
   "source": [
    "__Establishing features, targets, training and test sets.__"
   ]
  },
  {
   "cell_type": "code",
   "execution_count": 20,
   "metadata": {},
   "outputs": [],
   "source": [
    "features = data.drop(droppies, axis=1)\n",
    "target = data['Price']"
   ]
  },
  {
   "cell_type": "code",
   "execution_count": 21,
   "metadata": {},
   "outputs": [
    {
     "data": {
      "text/plain": [
       "247363"
      ]
     },
     "execution_count": 21,
     "metadata": {},
     "output_type": "execute_result"
    }
   ],
   "source": [
    "features.duplicated().sum()"
   ]
  },
  {
   "cell_type": "markdown",
   "metadata": {},
   "source": [
    "__Sheesh! Look at all these duplicates!__ That's pushing the entire dataset\n",
    "\n",
    "These will be dropped for efficient model training"
   ]
  },
  {
   "cell_type": "code",
   "execution_count": 22,
   "metadata": {},
   "outputs": [
    {
     "data": {
      "text/plain": [
       "Int64Index([   146,    203,    211,    264,    309,    331,    376,    399,\n",
       "               401,    415,\n",
       "            ...\n",
       "            354091, 354092, 354093, 354094, 354095, 354096, 354097, 354101,\n",
       "            354103, 354105],\n",
       "           dtype='int64', length=247363)"
      ]
     },
     "execution_count": 22,
     "metadata": {},
     "output_type": "execute_result"
    }
   ],
   "source": [
    "dupe_index = features[features.duplicated()].index #this will be used to keep the features and target indices the same when dropping them\n",
    "dupe_index"
   ]
  },
  {
   "cell_type": "code",
   "execution_count": 23,
   "metadata": {},
   "outputs": [
    {
     "data": {
      "text/plain": [
       "0"
      ]
     },
     "execution_count": 23,
     "metadata": {},
     "output_type": "execute_result"
    }
   ],
   "source": [
    "target = target.drop(dupe_index)\n",
    "target = target.reset_index(drop=True)\n",
    "features = features.drop_duplicates()\n",
    "features = features.reset_index(drop=True)\n",
    "features.duplicated().sum()"
   ]
  },
  {
   "cell_type": "code",
   "execution_count": 24,
   "metadata": {},
   "outputs": [
    {
     "data": {
      "text/plain": [
       "106744"
      ]
     },
     "execution_count": 24,
     "metadata": {},
     "output_type": "execute_result"
    }
   ],
   "source": [
    "(features.index == target.index).sum() #checking if they are all true"
   ]
  },
  {
   "cell_type": "code",
   "execution_count": 25,
   "metadata": {},
   "outputs": [
    {
     "data": {
      "text/plain": [
       "0           480\n",
       "1         18300\n",
       "2          9800\n",
       "3          1500\n",
       "4          3600\n",
       "          ...  \n",
       "106739     5250\n",
       "106740     3200\n",
       "106741        0\n",
       "106742     1199\n",
       "106743     3400\n",
       "Name: Price, Length: 106744, dtype: int64"
      ]
     },
     "execution_count": 25,
     "metadata": {},
     "output_type": "execute_result"
    }
   ],
   "source": [
    "target #checking length of series to confirm"
   ]
  },
  {
   "cell_type": "markdown",
   "metadata": {},
   "source": [
    "<span style='color:green'> __Confirmed!__ </span>"
   ]
  },
  {
   "cell_type": "code",
   "execution_count": 26,
   "metadata": {},
   "outputs": [],
   "source": [
    "#want a 60:20:20 split for training, validation, and test sets\n",
    "\n",
    "features_intermediate, features_test, target_intermediate, target_test = train_test_split(features, target, test_size=0.2, random_state=616)\n",
    "#first 80:20\n",
    "#intermediate is just used for the intermediate step before the final 3 parts\n",
    "\n",
    "features_train, features_valid, target_train, target_valid = train_test_split(features_intermediate, target_intermediate, test_size=0.25, random_state=616)\n",
    "#25% of 0.8 is 0.2"
   ]
  },
  {
   "cell_type": "markdown",
   "metadata": {},
   "source": [
    "<div style=\"border: 5px solid green; padding: 15px; margin: 5px\">\n",
    "<b>   Reviewer's comment </b>\n",
    "    \n",
    "Good job!     \n",
    "</div>"
   ]
  },
  {
   "cell_type": "markdown",
   "metadata": {},
   "source": [
    "### CatBoostRegressor"
   ]
  },
  {
   "cell_type": "code",
   "execution_count": 27,
   "metadata": {
    "scrolled": true
   },
   "outputs": [
    {
     "name": "stdout",
     "output_type": "stream",
     "text": [
      "Learning rate: 0.01, Iterations: 100\n",
      "Validation RMSE: 3763.281548559696\n",
      "Best iteration: 99\n",
      "Training Time: 1.220231294631958 units \n",
      "\n",
      "Learning rate: 0.01, Iterations: 500\n",
      "Validation RMSE: 3134.8179720792054\n",
      "Best iteration: 499\n",
      "Training Time: 14.026788711547852 units \n",
      "\n",
      "Learning rate: 0.01, Iterations: 1000\n",
      "Validation RMSE: 3048.41233541598\n",
      "Best iteration: 999\n",
      "Training Time: 27.199621438980103 units \n",
      "\n",
      "Learning rate: 0.1, Iterations: 100\n",
      "Validation RMSE: 3070.4055317816737\n",
      "Best iteration: 99\n",
      "Training Time: 1.1852021217346191 units \n",
      "\n",
      "Learning rate: 0.1, Iterations: 500\n",
      "Validation RMSE: 2902.943342859838\n",
      "Best iteration: 499\n",
      "Training Time: 14.2210054397583 units \n",
      "\n",
      "Learning rate: 0.1, Iterations: 1000\n",
      "Validation RMSE: 2852.2201400131876\n",
      "Best iteration: 998\n",
      "Training Time: 29.36406421661377 units \n",
      "\n",
      "Learning rate: 0.3, Iterations: 100\n",
      "Validation RMSE: 2983.6703559010202\n",
      "Best iteration: 99\n",
      "Training Time: 1.20387601852417 units \n",
      "\n",
      "Learning rate: 0.3, Iterations: 500\n",
      "Validation RMSE: 2852.438089476232\n",
      "Best iteration: 499\n",
      "Training Time: 14.484449863433838 units \n",
      "\n",
      "Learning rate: 0.3, Iterations: 1000\n",
      "Validation RMSE: 2838.7036909174153\n",
      "Best iteration: 677\n",
      "Training Time: 19.88356113433838 units \n",
      "\n"
     ]
    }
   ],
   "source": [
    "learning_rates = [0.01, 0.1, 0.3] #some learning rates to test\n",
    "iterations_list = [100, 500, 1000] #some interations to test\n",
    "\n",
    "for lr in learning_rates:\n",
    "    for iteration in iterations_list: #double for loop to test with each combination of rates and interations\n",
    "        model = CatBoostRegressor(\n",
    "            learning_rate=lr,\n",
    "            iterations=iteration,\n",
    "            random_seed=42\n",
    "        )\n",
    "\n",
    "        start_time_cb = time.time()\n",
    "        model.fit(\n",
    "            features_train, \n",
    "            target_train,\n",
    "            cat_features=cat_columns,\n",
    "            eval_set=(features_valid, target_valid),\n",
    "            early_stopping_rounds=20,\n",
    "            verbose=False\n",
    "        )\n",
    "        end_time_cb = time.time()\n",
    "\n",
    "        duration = end_time_cb - start_time_cb\n",
    "        \n",
    "        print(f\"Learning rate: {lr}, Iterations: {iteration}\")\n",
    "        print(f\"Validation RMSE: {model.get_best_score()['validation']['RMSE']}\")\n",
    "        print(\"Best iteration:\", model.get_best_iteration())\n",
    "        print(f\"Training Time: {duration} units\", \"\\n\")"
   ]
  },
  {
   "cell_type": "markdown",
   "metadata": {},
   "source": [
    "<div style=\"border: 5px solid red; padding: 15px; margin: 5px\">\n",
    "<b> Reviewer's comment</b>\n",
    "    \n",
    "One of the main goals here is to compare models' training and prediction speed. Would you please estimate them separately for each of the models? \n",
    "\n",
    "</div>"
   ]
  },
  {
   "cell_type": "markdown",
   "metadata": {},
   "source": [
    "<div style=\"border: 5px solid blue; padding: 15px; margin: 5px\">\n",
    "<b>   Reviewee's comment </b>\n",
    "    \n",
    "Thank you for this. I don't recall learning how to do that in the lessons prior. So thank you for the code you provided later in the notebook. I'll try to figure out how to use it.\n",
    "\n",
    "</div>"
   ]
  },
  {
   "cell_type": "markdown",
   "metadata": {},
   "source": [
    "<div style=\"border: 5px solid green; padding: 15px; margin: 5px\">\n",
    "<b>   Reviewer's comment 2 </b>\n",
    "    \n",
    "    \n",
    "Correct! \n",
    "</div>"
   ]
  },
  {
   "cell_type": "code",
   "execution_count": 28,
   "metadata": {},
   "outputs": [
    {
     "name": "stdout",
     "output_type": "stream",
     "text": [
      "0.5870223141485799\n"
     ]
    }
   ],
   "source": [
    "print(2852.22 / target_valid.mean())"
   ]
  },
  {
   "cell_type": "markdown",
   "metadata": {
    "jp-MarkdownHeadingCollapsed": true
   },
   "source": [
    "<span style='color:blue'> __After testing this model, I had a lowest RMSE score of about 2852.22. That value is over 58% of the mean of the values it was acquired from. Before moving on to another model I will try to improve the model.__ </span>"
   ]
  },
  {
   "cell_type": "markdown",
   "metadata": {},
   "source": [
    "<div style=\"border: 5px solid gold; padding: 15px; margin: 5px\">\n",
    "<b>   Reviewer's comment </b>\n",
    "    \n",
    "I recommend removing them all above and check for the duplicates once. </div>"
   ]
  },
  {
   "cell_type": "markdown",
   "metadata": {},
   "source": [
    "<div style=\"border: 5px solid green; padding: 15px; margin: 5px\">\n",
    "<b>   Reviewer's comment </b>\n",
    "    \n",
    "Good idea! \n",
    "\n",
    "</div>\n",
    "<div style=\"border: 5px solid gold; padding: 15px; margin: 5px\">\n",
    "<b>   Reviewer's comment </b>\n",
    "    \n",
    "We should note, however, that a car can be registered several times, so we cannot identify its age. \n",
    "\n",
    "</div>"
   ]
  },
  {
   "cell_type": "markdown",
   "metadata": {},
   "source": [
    "<div style=\"border: 5px solid blue; padding: 15px; margin: 5px\">\n",
    "<b>   Reviewee's comment </b>\n",
    "    \n",
    "I was working with Dot. It told me about the age thing. ugh!\n",
    "\n",
    "</div>"
   ]
  },
  {
   "cell_type": "markdown",
   "metadata": {},
   "source": [
    "<div style=\"border: 5px solid red; padding: 15px; margin: 5px\">\n",
    "<b>   Reviewer's comment </b>\n",
    "    \n",
    "Doon't forget to check for the duplicates.\n",
    "</div>\n"
   ]
  },
  {
   "cell_type": "markdown",
   "metadata": {},
   "source": [
    "<div style=\"border: 5px solid green; padding: 15px; margin: 5px\">\n",
    "<b>   Reviewer's comment </b>\n",
    "    \n",
    "Yes, it happens :) \n",
    "</div>\n"
   ]
  },
  {
   "cell_type": "markdown",
   "metadata": {},
   "source": [
    "__I am going to add more learning rates and iterations in between the values I already had. In addition to that, I will create a list of different tree depths for the booster to work with. This will take longer but perhaps give better results.__"
   ]
  },
  {
   "cell_type": "code",
   "execution_count": 29,
   "metadata": {
    "scrolled": true
   },
   "outputs": [],
   "source": [
    "learning_rates = [0.01, 0.05, 0.1, 0.2, 0.3] #editing learning rate list\n",
    "iterations_list = [100, 150, 200, 250, 300, 350, 400, 450, 500] #editing iterations list \n",
    "cat_depth = [2, 4, 6, 8, 10] #introducing new list to experiment with another hyper parameter\n",
    "\n",
    "#for lr in learning_rates:\n",
    "#    for iteration in iterations_list:\n",
    "#        for depth in cat_depth:    \n",
    "#            model = CatBoostRegressor(\n",
    "#                learning_rate=lr,\n",
    "#                iterations=iteration,\n",
    "#                max_depth = depth,\n",
    "#                random_seed=42\n",
    "#            )\n",
    "#\n",
    "#            start_time = time.time()\n",
    "#            model.fit(\n",
    "#                features_train, \n",
    "#                target_train,\n",
    "#                cat_features=cat_columns,\n",
    "#                eval_set=(features_valid, target_valid),\n",
    "#                early_stopping_rounds=20,\n",
    "#                verbose=False\n",
    "#                )\n",
    "#            end_time = time.time()\n",
    "#\n",
    "#            duration = end_time - start_time\n",
    "#        \n",
    "#            print(f\"Learning rate: {lr}, Iterations: {iteration}, Depth: {depth}\")\n",
    "#            print(f\"Validation RMSE: {model.get_best_score()['validation']['RMSE']}\")\n",
    "#            print(\"Best iteration:\", model.get_best_iteration())\n",
    "#            print(f\"Time to train: {duration} units\", \"\\n\")"
   ]
  },
  {
   "cell_type": "markdown",
   "metadata": {
    "jp-MarkdownHeadingCollapsed": true
   },
   "source": [
    "<div class=\"alert alert-block alert-info\">\n",
    "    Hi reviewer! I am going to save you the time from running the code in the cell above and just inform you of my results. This took very long because I totally overlooked the FCP and figured out I had 225 possible match ups whilst it was running.\n",
    "</div>"
   ]
  },
  {
   "cell_type": "markdown",
   "metadata": {},
   "source": [
    "So after that long process, I was able to get my RMSE down to about 2823.69 with two different combinations of hyperparameters. However, a learning rate of 0.3, iteration of 500, and a tree depth of 8 took less time. It took 17.91 units. I am beginning to think an RMSE value in the 2 thousands is reasonable given that our target units reach as high as 20,000.\n",
    "\n",
    "<span style='color:blue'> But, let's try other models to be sure. </span>"
   ]
  },
  {
   "cell_type": "markdown",
   "metadata": {},
   "source": [
    "<div style=\"border: 5px solid green; padding: 15px; margin: 5px\">\n",
    "<b>   Reviewer's comment </b>\n",
    "    \n",
    "Understood! Yes, the code looks correct. \n",
    "\n",
    "</div>\n"
   ]
  },
  {
   "cell_type": "markdown",
   "metadata": {},
   "source": [
    "<span style='color:green'> __Next up, I am going to try Decision Tree and Random Forest Regression.__ </span>"
   ]
  },
  {
   "cell_type": "markdown",
   "metadata": {},
   "source": [
    "### Decision Tree Model"
   ]
  },
  {
   "cell_type": "markdown",
   "metadata": {},
   "source": [
    "Before training these models, I need to change the categorical columns to numerical labels myself. I'll do one hot encoding by getting dummy varibles for the categorical columns."
   ]
  },
  {
   "cell_type": "code",
   "execution_count": 30,
   "metadata": {},
   "outputs": [],
   "source": [
    "features_ohe = pd.get_dummies(features, drop_first=True) #avoiding dummy trap by setting drop_first to true"
   ]
  },
  {
   "cell_type": "markdown",
   "metadata": {},
   "source": [
    "<div style=\"border: 5px solid green; padding: 15px; margin: 5px\">\n",
    "<b>   Reviewer's comment </b>\n",
    "    \n",
    "It is acceptable to use `get_dummies` in this project, and we have to use it before we split the data because if we use it after we divide the data, we may face the situation where subsest have different number of categories.\n",
    "    \n",
    "</div>\n",
    "<div style=\"border: 5px solid gold; padding: 15px; margin: 5px\">\n",
    "<b>   Reviewer's comment </b>\n",
    "\n",
    "\n",
    "- If the columns we want to convert are not explicitly specified, `get_dummies` will convert all columns with categorical strings, which may lead to unexpected results if some numeric columns also contain categorical data represented in numerical form (if there's a numerical category displayed as [1, 2, 3, 2, ... ]).\n",
    "\n",
    "\n",
    "\n",
    "    \n",
    "- Please note that `OneHotEncoder(handle_unknown='ignore')` or `OrdinalEncoder(handle_unknown='use_encoded_value', unknown_value=-1)` are generally more robust than `get_dummies` because they can handle situations where test subset has features that were not available during training. [Difference between OneHotEncoder and get_dummies](https://pythonsimplified.com/difference-between-onehotencoder-and-get_dummies/). \n",
    "    \n",
    "    \n",
    "    \n",
    "For tree-based models, `OrdinalEncoder` is a better choice because of computational cost. For boosting algorithms, we can rely on internal encoders that usually perform even better than external ones. For `CatBoost`, this is controlled by the `cat_features` parameter. For `LightGBM`, you can convert categorical features to the category type, allowing the model to handle them automatically.\n",
    "    \n",
    "   \n",
    "\n",
    "\n",
    "\n",
    "    \n",
    "`OrdinalEncoder()` or `LabelEncoder()` should not be used with linear models if there's no ordinal relationship. [How and When to Use Ordinal Encoder](https://leochoi146.medium.com/how-and-when-to-use-ordinal-encoder-d8b0ef90c28c). For linear regresison, I recommend using `OneHotEncoder(handle_unknown='ignore')`. \n",
    "\n",
    "\n",
    "If you decide to use any of these methods, please encode data **after** you split it. \n",
    "\n",
    "    \n",
    "    \n",
    "    \n",
    "For instance, you can use `Ordinal` for Forest and Tree, `OneHotEncoder` for Lin. Regression and categorical data types for boosting models.\n",
    "</div>\n",
    "\n"
   ]
  },
  {
   "cell_type": "markdown",
   "metadata": {},
   "source": [
    "<div style=\"border: 5px solid blue; padding: 15px; margin: 5px\">\n",
    "<b>   Reviewee's comment </b>\n",
    "    \n",
    "Noted :)\n",
    "\n",
    "</div>"
   ]
  },
  {
   "cell_type": "markdown",
   "metadata": {},
   "source": [
    "<div style=\"border: 5px solid green; padding: 15px; margin: 5px\">\n",
    "<b>   Reviewer's comment 2 </b>\n",
    "    \n",
    "    \n",
    "😊\n",
    "</div>"
   ]
  },
  {
   "cell_type": "code",
   "execution_count": 31,
   "metadata": {},
   "outputs": [],
   "source": [
    "#target is still the same\n",
    "\n",
    "#reassigning features to be from one hot encoded data\n",
    "features_ohe_intermediate, features_ohe_test, target_intermediate, target_test = train_test_split(features_ohe, target, test_size=0.2, random_state=616)\n",
    "\n",
    "features_ohe_train, features_ohe_valid, target_train, target_valid = train_test_split(features_ohe_intermediate, target_intermediate, test_size=0.25, random_state=616)"
   ]
  },
  {
   "cell_type": "code",
   "execution_count": 33,
   "metadata": {},
   "outputs": [
    {
     "name": "stdout",
     "output_type": "stream",
     "text": [
      "Best RMSE: 3533.9598469170264\n",
      "Best Depth: 6\n",
      "Training time: 0.4662513732910156 units, Prediction Time: 0.022653818130493164 units\n"
     ]
    }
   ],
   "source": [
    "#creating for loop to find the best tree length\n",
    "best_depth = 0\n",
    "best_rmse = 10000\n",
    "stt = 0 #these stand for start time train\n",
    "ett = 0 #end time train\n",
    "stp = 0 #start time predict\n",
    "etp = 0 #end time predict\n",
    "#they are used to record the times spent at the specific best model\n",
    "\n",
    "for depth in range(1,7):\n",
    "    model_dt = DecisionTreeRegressor(random_state=616, max_depth=depth)\n",
    "\n",
    "    start_time_train = time.time()\n",
    "    model_dt.fit(features_ohe_train, target_train)\n",
    "    end_time_train = time.time()\n",
    "\n",
    "    start_time_predict = time.time()\n",
    "    predicted_dt = model_dt.predict(features_ohe_valid)\n",
    "    end_time_predict = time.time()\n",
    "    \n",
    "    rmse = mean_squared_error(target_valid, predicted_dt)**0.5\n",
    "    \n",
    "    if rmse < best_rmse:\n",
    "        best_rmse = rmse\n",
    "        best_depth = depth\n",
    "        stt = start_time_train\n",
    "        ett = end_time_train\n",
    "        stp = start_time_predict\n",
    "        etp = end_time_predict\n",
    "\n",
    "duration_train = ett - stt\n",
    "duration_pred = etp - stp\n",
    "\n",
    "print(f\"Best RMSE: {best_rmse}\")\n",
    "print(f\"Best Depth: {best_depth}\")\n",
    "print(f\"Training time: {duration_train} units, Prediction Time: {duration_pred} units\")"
   ]
  },
  {
   "cell_type": "markdown",
   "metadata": {},
   "source": [
    "<div style=\"border: 5px solid green; padding: 15px; margin: 5px\">\n",
    "<b>   Reviewer's comment </b>\n",
    "    \n",
    "    \n",
    "You have successfully implemented hyperparameters tuning, well done!     \n",
    "</div>\n",
    "<div style=\"border: 5px solid red; padding: 15px; margin: 5px\">\n",
    "<b> Reviewer's comment</b>\n",
    "    \n",
    "Don't forget to estimate time. You can do it as follows: \n",
    "\n",
    "\n",
    "```python\n",
    "start_time = time.time()\n",
    "model.fit(X_train, y_train)\n",
    "end_time1 = time.time()  \n",
    "\n",
    "\n",
    "start_time = time.time()\n",
    "model.predict(X_valid, y_valid)\n",
    "end_time2 = time.time()  \n",
    "\n",
    "```\n",
    "\n",
    "</div>"
   ]
  },
  {
   "cell_type": "markdown",
   "metadata": {},
   "source": [
    "<div style=\"border: 5px solid blue; padding: 15px; margin: 5px\">\n",
    "<b>   Reviewee's comment </b>\n",
    "    \n",
    "Thank you again for this :D\n",
    "\n",
    "</div>"
   ]
  },
  {
   "cell_type": "markdown",
   "metadata": {},
   "source": [
    "__Ok so this is not good. Before moving to the next model type, I want to scale the Mileage values to see if that helps.__"
   ]
  },
  {
   "cell_type": "code",
   "execution_count": 37,
   "metadata": {},
   "outputs": [
    {
     "name": "stderr",
     "output_type": "stream",
     "text": [
      "/tmp/ipykernel_665/2250241540.py:6: SettingWithCopyWarning: \n",
      "A value is trying to be set on a copy of a slice from a DataFrame.\n",
      "Try using .loc[row_indexer,col_indexer] = value instead\n",
      "\n",
      "See the caveats in the documentation: https://pandas.pydata.org/pandas-docs/stable/user_guide/indexing.html#returning-a-view-versus-a-copy\n",
      "  features_ohe_train[to_be_scaled] = scaler.transform(features_ohe_train[to_be_scaled])\n",
      "/.venv/lib/python3.9/site-packages/pandas/core/indexing.py:1738: SettingWithCopyWarning: \n",
      "A value is trying to be set on a copy of a slice from a DataFrame.\n",
      "Try using .loc[row_indexer,col_indexer] = value instead\n",
      "\n",
      "See the caveats in the documentation: https://pandas.pydata.org/pandas-docs/stable/user_guide/indexing.html#returning-a-view-versus-a-copy\n",
      "  self._setitem_single_column(loc, value[:, i].tolist(), pi)\n",
      "/tmp/ipykernel_665/2250241540.py:7: SettingWithCopyWarning: \n",
      "A value is trying to be set on a copy of a slice from a DataFrame.\n",
      "Try using .loc[row_indexer,col_indexer] = value instead\n",
      "\n",
      "See the caveats in the documentation: https://pandas.pydata.org/pandas-docs/stable/user_guide/indexing.html#returning-a-view-versus-a-copy\n",
      "  features_ohe_valid[to_be_scaled] = scaler.transform(features_ohe_valid[to_be_scaled])\n",
      "/.venv/lib/python3.9/site-packages/pandas/core/indexing.py:1738: SettingWithCopyWarning: \n",
      "A value is trying to be set on a copy of a slice from a DataFrame.\n",
      "Try using .loc[row_indexer,col_indexer] = value instead\n",
      "\n",
      "See the caveats in the documentation: https://pandas.pydata.org/pandas-docs/stable/user_guide/indexing.html#returning-a-view-versus-a-copy\n",
      "  self._setitem_single_column(loc, value[:, i].tolist(), pi)\n"
     ]
    }
   ],
   "source": [
    "to_be_scaled = ['Mileage', 'Power']\n",
    "\n",
    "scaler = StandardScaler()\n",
    "scaler.fit(features_ohe_train[to_be_scaled])\n",
    "\n",
    "features_ohe_train[to_be_scaled] = scaler.transform(features_ohe_train[to_be_scaled])\n",
    "features_ohe_valid[to_be_scaled] = scaler.transform(features_ohe_valid[to_be_scaled])"
   ]
  },
  {
   "cell_type": "markdown",
   "metadata": {},
   "source": [
    "<div style=\"border: 5px solid green; padding: 15px; margin: 5px\">\n",
    "<b>   Reviewer's comment </b>\n",
    "    \n",
    "It's great that you scale data after you split it to avoid data leakage. \n",
    "\n",
    "</div>"
   ]
  },
  {
   "cell_type": "markdown",
   "metadata": {},
   "source": [
    "RUN IT BACK!! "
   ]
  },
  {
   "cell_type": "code",
   "execution_count": 38,
   "metadata": {},
   "outputs": [
    {
     "name": "stdout",
     "output_type": "stream",
     "text": [
      "Best RMSE: 3533.9598469170264\n",
      "Best Depth: 6\n",
      "Training time: 0.4774658679962158 units, Prediction Time: 0.02301764488220215 units\n"
     ]
    }
   ],
   "source": [
    "best_depth = 0\n",
    "best_rmse = 10000\n",
    "stt = 0\n",
    "ett = 0 \n",
    "stp = 0 \n",
    "etp = 0\n",
    "\n",
    "\n",
    "for depth in range(1,7):\n",
    "    model_dt = DecisionTreeRegressor(random_state=616, max_depth=depth)\n",
    "\n",
    "    start_time_train = time.time()\n",
    "    model_dt.fit(features_ohe_train, target_train)\n",
    "    end_time_train = time.time()\n",
    "\n",
    "    start_time_predict = time.time()\n",
    "    predicted_dt = model_dt.predict(features_ohe_valid)\n",
    "    end_time_predict = time.time()\n",
    "    \n",
    "    rmse = mean_squared_error(target_valid, predicted_dt)**0.5\n",
    "    \n",
    "    if rmse < best_rmse:\n",
    "        best_rmse = rmse\n",
    "        best_depth = depth\n",
    "        stt = start_time_train\n",
    "        ett = end_time_train\n",
    "        stp = start_time_predict\n",
    "        etp = end_time_predict\n",
    "\n",
    "duration_train = ett - stt\n",
    "duration_pred = etp - stp\n",
    "\n",
    "print(f\"Best RMSE: {best_rmse}\")\n",
    "print(f\"Best Depth: {best_depth}\")\n",
    "print(f\"Training time: {duration_train} units, Prediction Time: {duration_pred} units\")"
   ]
  },
  {
   "cell_type": "markdown",
   "metadata": {},
   "source": [
    "<div style=\"border: 5px solid green; padding: 15px; margin: 5px\">\n",
    "<b>   Reviewer's comment 2 </b>\n",
    "    \n",
    "    \n",
    "Correct! \n",
    "</div><div style=\"border: 5px solid red; padding: 15px; margin: 5px\">\n",
    "<b> Reviewer's comment</b>\n",
    "    \n",
    "Here and below, we also need to calculate time. \n",
    "\n",
    "</div>"
   ]
  },
  {
   "cell_type": "markdown",
   "metadata": {},
   "source": [
    "__Alright, that's the exact same thing. The Decision Tree doesn't seem to be the best model for this. Up next, the notorious Random Forest!__"
   ]
  },
  {
   "cell_type": "code",
   "execution_count": 39,
   "metadata": {
    "scrolled": true
   },
   "outputs": [
    {
     "name": "stdout",
     "output_type": "stream",
     "text": [
      "Best Number of Estimators: 50\n",
      "Best Depth: 10\n",
      "Result: 3239.9561300754754\n",
      "Time to train: 20.357024431228638 units, Time to predict: 0.09542608261108398 units\n"
     ]
    }
   ],
   "source": [
    "#establishing variables to be changed throughout the loop\n",
    "best_rf_depth = 0 \n",
    "best_est = 0\n",
    "best_rf_result = 10000\n",
    "\n",
    "stt = 0\n",
    "ett = 0\n",
    "stp = 0\n",
    "etp = 0\n",
    "\n",
    "for est in range(10, 51, 10):\n",
    "    for depth in range(1,11):\n",
    "        model_rf = RandomForestRegressor(random_state=616, n_estimators=est, max_depth=depth)\n",
    "        \n",
    "        start_time_train = time.time()\n",
    "        model_rf.fit(features_ohe_train, target_train)\n",
    "        end_time_train = time.time()\n",
    "\n",
    "        start_time_pred = time.time()\n",
    "        predicted_rf = model_rf.predict(features_ohe_valid)\n",
    "        end_time_pred = time.time()\n",
    "        \n",
    "        result = mean_squared_error(target_valid, predicted_rf)**0.5\n",
    "        if result < best_rf_result:\n",
    "            best_result = result\n",
    "            best_est = est\n",
    "            best_depth = depth\n",
    "            stt = start_time_train\n",
    "            ett = end_time_train\n",
    "            stp = start_time_pred\n",
    "            etp = end_time_pred\n",
    "\n",
    "train_time = ett - stt\n",
    "pred_time = etp - stp\n",
    "\n",
    "print(f\"Best Number of Estimators: {best_est}\")\n",
    "print(f\"Best Depth: {best_depth}\")\n",
    "print(f\"Result: {best_result}\")\n",
    "print(f\"Time to train: {train_time} units, Time to predict: {pred_time} units\")"
   ]
  },
  {
   "cell_type": "markdown",
   "metadata": {},
   "source": [
    "An RMSE value of about 3239.96, using a depth of 10 and 50 estimators.\n",
    "\n",
    "<span style='color:red'> __This is less than the Decision Tree result but more than the CatBoost__ </span>\n",
    "\n",
    "Let's check how a Linear Regression Model would perform to gauge how our models have been doing in comparison"
   ]
  },
  {
   "cell_type": "markdown",
   "metadata": {},
   "source": [
    "<div style=\"border: 5px solid green; padding: 15px; margin: 5px\">\n",
    "<b>   Reviewer's comment </b>\n",
    "    \n",
    "    \n",
    "Good results actually. \n",
    "</div>"
   ]
  },
  {
   "cell_type": "code",
   "execution_count": 42,
   "metadata": {},
   "outputs": [
    {
     "name": "stdout",
     "output_type": "stream",
     "text": [
      "Linear Regression Result: 3690.2937282149474\n",
      "Time to train: 2.137799024581909 units, Time to predict: 0.019021034240722656 units\n"
     ]
    }
   ],
   "source": [
    "model_lr = LinearRegression()\n",
    "\n",
    "start_lr = time.time()\n",
    "model_lr.fit(features_ohe_train, target_train)\n",
    "end_lr = time.time()\n",
    "\n",
    "start_lr_p = time.time()\n",
    "predicted_lr = model_lr.predict(features_ohe_valid)\n",
    "end_lr_p = time.time()\n",
    "\n",
    "result_lr = mean_squared_error(target_valid, predicted_lr)**0.5\n",
    "\n",
    "print(f\"Linear Regression Result: {result_lr}\")\n",
    "print(f\"Time to train: {end_lr - start_lr} units, Time to predict: {end_lr_p - start_lr_p} units\")"
   ]
  },
  {
   "cell_type": "markdown",
   "metadata": {},
   "source": [
    "<span style='color:green'> __A RMSE of about 3690.29. So far all of our models have performed better than that, which is a good sign.__ </span>"
   ]
  },
  {
   "cell_type": "markdown",
   "metadata": {},
   "source": [
    "### Stochastic Gradient Descent Linear Regression (SGD)"
   ]
  },
  {
   "cell_type": "code",
   "execution_count": 43,
   "metadata": {},
   "outputs": [
    {
     "name": "stdout",
     "output_type": "stream",
     "text": [
      "RMSE: 3705.6554453308413\n",
      "Time to train: 5.935527086257935 units, Time to predict: 0.01704692840576172 units\n"
     ]
    }
   ],
   "source": [
    "model3 = SGDRegressor(random_state=616) #creating instance of model\n",
    "\n",
    "start_sgd = time.time()\n",
    "model3.fit(features_ohe_train, target_train) #fitting the numeric training sets\n",
    "end_sgd = time.time()\n",
    "\n",
    "start_sgd_p = time.time()\n",
    "predictions3 = model3.predict(features_ohe_valid) #predicted\n",
    "end_sgd_p = time.time()\n",
    "\n",
    "\n",
    "rmse3 = mean_squared_error(target_valid, predictions3)**0.5\n",
    "\n",
    "print(f\"RMSE: {rmse3}\")\n",
    "print(f\"Time to train: {end_sgd - start_sgd} units, Time to predict: {end_sgd_p - start_sgd_p} units\")"
   ]
  },
  {
   "cell_type": "markdown",
   "metadata": {},
   "source": [
    "<span style='color:red'> __Pretty high in comparison to others__ </span>"
   ]
  },
  {
   "cell_type": "markdown",
   "metadata": {},
   "source": [
    "<span style='color:blue'> I'm going to give one more model a try. A LightGBM model </span>"
   ]
  },
  {
   "cell_type": "markdown",
   "metadata": {},
   "source": [
    "<div style=\"border: 5px solid green; padding: 15px; margin: 5px\">\n",
    "<b>   Reviewer's comment </b>\n",
    "    \n",
    "    \n",
    "Yes, it requires a thorough tuning.</div>"
   ]
  },
  {
   "cell_type": "markdown",
   "metadata": {},
   "source": [
    "### LightGBM Regression"
   ]
  },
  {
   "cell_type": "code",
   "execution_count": 45,
   "metadata": {},
   "outputs": [],
   "source": [
    "model_lgb = lgb.LGBMRegressor(random_state=616) #lets try keeping everything as a default first except the random state"
   ]
  },
  {
   "cell_type": "code",
   "execution_count": 46,
   "metadata": {},
   "outputs": [
    {
     "name": "stdout",
     "output_type": "stream",
     "text": [
      "RMSE Result for LightGBM Model: 2994.6771247163692\n",
      "Time to train: 0.9516007900238037 units, Time to Predict: 0.18448781967163086 units\n"
     ]
    }
   ],
   "source": [
    "start_lgb = time.time()\n",
    "model_lgb.fit(features_ohe_train, target_train) #needed the OHE data because it wouldn't accept the categorical data\n",
    "end_lgb = time.time()\n",
    "\n",
    "start_lgb_p = time.time()\n",
    "predicted_lgb = model_lgb.predict(features_ohe_valid) #predicting the validation set\n",
    "end_lgb_p = time.time()\n",
    "\n",
    "rmse_lgb = mean_squared_error(target_valid, predicted_lgb)**0.5 #calculating RMSE\n",
    "\n",
    "print(f\"RMSE Result for LightGBM Model: {rmse_lgb}\")\n",
    "print(f\"Time to train: {end_lgb - start_lgb} units, Time to Predict: {end_lgb_p - start_lgb_p} units\")"
   ]
  },
  {
   "cell_type": "markdown",
   "metadata": {},
   "source": [
    "__Ok this isn't too bad given some of the other results in the 3000s. It still isn't better than the CatBoost Model.__"
   ]
  },
  {
   "cell_type": "markdown",
   "metadata": {},
   "source": [
    "<div style=\"border: 5px solid green; padding: 15px; margin: 5px\">\n",
    "<b>   Reviewer's comment 2 </b>\n",
    "    \n",
    "    \n",
    "Well done! \n",
    "</div>"
   ]
  },
  {
   "cell_type": "markdown",
   "metadata": {},
   "source": [
    "## Model analysis"
   ]
  },
  {
   "cell_type": "markdown",
   "metadata": {},
   "source": [
    "After testing many models to help predict the price of a car at Rusty Bargain, it appears the best model to use is a CatBoost Regressor model. From my experiments, it needs a Learning Rate of 0.3, Iterations should be 500, and the tree depth should be 8. Let's test it out on the test set."
   ]
  },
  {
   "cell_type": "code",
   "execution_count": 48,
   "metadata": {},
   "outputs": [
    {
     "name": "stdout",
     "output_type": "stream",
     "text": [
      "Final RMSE Value for Test Set: 2754.45836249269\n",
      "Time to train 17.644738912582397 units, Time to predict: 0.0762486457824707 units\n"
     ]
    }
   ],
   "source": [
    "model_final = CatBoostRegressor(\n",
    "    learning_rate=0.3,\n",
    "    iterations=500,\n",
    "    max_depth=8,\n",
    "    random_seed=42\n",
    ")\n",
    "\n",
    "stf = time.time()\n",
    "model_final.fit(features_train,\n",
    "          target_train,\n",
    "          cat_features=cat_columns,\n",
    "          eval_set=(features_valid, target_valid),\n",
    "          early_stopping_rounds=20,\n",
    "          verbose=False\n",
    "         )\n",
    "etf = time.time()\n",
    "\n",
    "start_prediction = time.time()\n",
    "predictions_final = model_final.predict(features_test)\n",
    "end_prediction = time.time()\n",
    "\n",
    "rmse_final = mean_squared_error(target_test, predictions_final)**0.5\n",
    "\n",
    "print(f\"Final RMSE Value for Test Set: {rmse_final}\")\n",
    "print(f\"Time to train {etf - stf} units, Time to predict: {end_prediction - start_prediction} units\")"
   ]
  },
  {
   "cell_type": "markdown",
   "metadata": {},
   "source": [
    "<span style='color:green'> __An RMSE even lower than the validation set! Success!__\n",
    "The time also is not too bad."
   ]
  },
  {
   "cell_type": "markdown",
   "metadata": {},
   "source": [
    "<div style=\"border: 5px solid green; padding: 15px; margin: 5px\">\n",
    "<b> Reviewer's comment</b>\n",
    "\n",
    "    \n",
    "Correct, we choose the best model (it's one model or two models if their errors are quite similar) and run the final test using the test subset to evaluate its generalization ability. \n",
    "\n",
    "</div>\n",
    "<div style=\"border: 5px solid gold; padding: 15px; margin: 5px\">\n",
    "<b>   Reviewer's comment </b>\n",
    "\n",
    "\n",
    "- When choosing the best model, we have to consider prediction time as well. The best model isn't always the one with the lowest error. Sometimes the errors are only slightly different, but the prediction time varies significantly. In such cases, it's worth considering a faster model. Think of a slow search engine that finds 10 useful links versus a fast one that finds 9. This is especially important if the model needs to operate in real time and produce results repeatedly. If a program runs just once, its speed might not even matter. But if it’s used continuously, optimization becomes crucial. So, in practice, apart from the other requirements, there are also runtime constraints for the model.\n",
    "\n",
    "\n",
    "\n",
    "- You can compare the results with a constant baseline. For instance, you can take [DummyRegressor](https://scikit-learn.org/stable/modules/generated/sklearn.dummy.DummyRegressor.html). \n",
    "</div>"
   ]
  },
  {
   "cell_type": "markdown",
   "metadata": {},
   "source": [
    "## Conclusion"
   ]
  },
  {
   "cell_type": "markdown",
   "metadata": {},
   "source": [
    "Rusty Bargain needs to use a CatBoost Regressor for their model. Even if there is some unknown combination of hyperparameters that can get the RMSE even lower than my results, based on my experiments, CatBoost is doing the best."
   ]
  },
  {
   "cell_type": "markdown",
   "metadata": {},
   "source": [
    "<div style=\"border: 5px solid green; padding: 15px; margin: 5px\">\n",
    "<b>   Reviewer's comment 2 </b>\n",
    "    \n",
    "    \n",
    "Excellent! \n",
    "</div>"
   ]
  },
  {
   "cell_type": "markdown",
   "metadata": {},
   "source": [
    "<div style=\"border: 5px solid green; padding: 15px; margin: 5px\">\n",
    "<b>   Reviewer's comment </b>\n",
    "\n",
    "\n",
    "    \n",
    "Great conclusion! This is a solid final summary with comparison across models. \n",
    "    \n",
    "    \n",
    "</div>    \n",
    "  \n",
    "<div style=\"border: 5px solid red; padding: 15px; margin: 5px\">\n",
    "<b>   Reviewer's comment </b>\n",
    "    \n",
    "Don't forget to update it if needed. \n",
    "\n",
    "</div>"
   ]
  },
  {
   "cell_type": "markdown",
   "metadata": {},
   "source": [
    "# Checklist"
   ]
  },
  {
   "cell_type": "markdown",
   "metadata": {},
   "source": [
    "Type 'x' to check. Then press Shift+Enter."
   ]
  },
  {
   "cell_type": "markdown",
   "metadata": {},
   "source": [
    "- [x]  Jupyter Notebook is open\n",
    "- [ ]  Code is error free\n",
    "- [ ]  The cells with the code have been arranged in order of execution\n",
    "- [ ]  The data has been downloaded and prepared\n",
    "- [ ]  The models have been trained\n",
    "- [ ]  The analysis of speed and quality of the models has been performed"
   ]
  }
 ],
 "metadata": {
  "kernelspec": {
   "display_name": "Python 3 (ipykernel)",
   "language": "python",
   "name": "python3"
  },
  "language_info": {
   "codemirror_mode": {
    "name": "ipython",
    "version": 3
   },
   "file_extension": ".py",
   "mimetype": "text/x-python",
   "name": "python",
   "nbconvert_exporter": "python",
   "pygments_lexer": "ipython3",
   "version": "3.9.22"
  }
 },
 "nbformat": 4,
 "nbformat_minor": 4
}
